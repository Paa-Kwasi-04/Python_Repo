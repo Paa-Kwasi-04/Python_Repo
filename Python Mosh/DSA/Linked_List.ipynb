{
 "cells": [
  {
   "cell_type": "code",
   "execution_count": 2,
   "metadata": {},
   "outputs": [],
   "source": [
    "class SinglyNode:\n",
    "    def __init__(self,val:int):\n",
    "        self.val = val\n",
    "        self.next = None\n",
    "        \n",
    "    def __str__(self):\n",
    "        return str(self.val)"
   ]
  },
  {
   "cell_type": "code",
   "execution_count": 20,
   "metadata": {},
   "outputs": [],
   "source": [
    "\n",
    "Head = SinglyNode(1) # defined head node"
   ]
  },
  {
   "cell_type": "code",
   "execution_count": 28,
   "metadata": {},
   "outputs": [
    {
     "name": "stdout",
     "output_type": "stream",
     "text": [
      "6->5->4->3->2->1\n"
     ]
    }
   ],
   "source": [
    "# to display\n",
    "def display(head):\n",
    "    curr = head\n",
    "    elements = []\n",
    "\n",
    "    while curr:\n",
    "        elements.append(str(curr.val))\n",
    "        curr = curr.next\n",
    "\n",
    "    print('->'.join(elements))\n",
    "\n",
    "\n",
    "display(Head)"
   ]
  },
  {
   "cell_type": "code",
   "execution_count": 26,
   "metadata": {},
   "outputs": [
    {
     "name": "stdout",
     "output_type": "stream",
     "text": [
      "1->2->3->4->5->6\n"
     ]
    }
   ],
   "source": [
    "#add new node\n",
    "def new_node(head,val):\n",
    "    new_node = SinglyNode(val)\n",
    "\n",
    "    if not head:\n",
    "        return new_node\n",
    "    \n",
    "    curr = head\n",
    "\n",
    "    while curr.next:\n",
    "        curr = curr.next\n",
    "        \n",
    "    curr.next = new_node\n",
    "\n",
    "    return head\n",
    "\n",
    "Head = new_node(Head,int(input('New node: ')))\n",
    "            \n",
    "display(Head)\n"
   ]
  },
  {
   "cell_type": "code",
   "execution_count": 34,
   "metadata": {},
   "outputs": [
    {
     "name": "stdout",
     "output_type": "stream",
     "text": [
      "6\n",
      "5\n",
      "4\n",
      "3\n",
      "2\n",
      "1\n"
     ]
    }
   ],
   "source": [
    "#To Traverse the list\n",
    "\n",
    "curr = Head\n",
    "while curr:\n",
    "    print(curr)\n",
    "    curr  = curr.next"
   ]
  },
  {
   "cell_type": "code",
   "execution_count": null,
   "metadata": {},
   "outputs": [],
   "source": [
    "#Search for a node value\n",
    "def search(head,val):\n",
    "    if not head: # checks if list if empty\n",
    "        return False\n",
    "    \n",
    "    curr = head\n",
    "\n",
    "    while curr: \n",
    "        if curr.val == val:\n",
    "            return True\n",
    "        curr = curr.next\n",
    "    return False\n",
    "\n",
    "search(Head,int(input('Search: ')))"
   ]
  },
  {
   "cell_type": "code",
   "execution_count": null,
   "metadata": {},
   "outputs": [],
   "source": [
    "#Insert at the beginning\n",
    "\n",
    "def insert_beginning(head,val):\n",
    "\n",
    "    new_node = SinglyNode(val)\n",
    "    new_node.next = head\n",
    "    return new_node\n",
    "\n",
    "Head = insert_beginning(Head,int(input('Insert at beginning')))\n",
    "display(Head)"
   ]
  },
  {
   "cell_type": "code",
   "execution_count": null,
   "metadata": {},
   "outputs": [],
   "source": [
    "#Insert at the end\n",
    "def insert_end(head,val):\n",
    "    curr  = head\n",
    "    new_node = SinglyNode(val)\n",
    "\n",
    "    while curr.next:\n",
    "        curr = curr.next\n",
    "    curr.next = new_node\n",
    "\n",
    "    return head\n",
    "\n",
    "Head = insert_end(Head,int(input('Insert at end: ')))\n",
    "display(Head)\n"
   ]
  },
  {
   "cell_type": "code",
   "execution_count": null,
   "metadata": {},
   "outputs": [],
   "source": [
    "#delete first node\n",
    "def delete_first(head):\n",
    "    if  not head:\n",
    "        return None\n",
    "    \n",
    "    if not head.next:\n",
    "        return None\n",
    "    \n",
    "    return head.next\n",
    "    \n",
    "\n",
    "\n",
    "Head = delete_first(Head)\n",
    "display(Head)"
   ]
  },
  {
   "cell_type": "code",
   "execution_count": null,
   "metadata": {},
   "outputs": [],
   "source": [
    "#delete last node\n",
    "def delete_last(head):\n",
    "    if not head:  # empty list\n",
    "        return None\n",
    "    \n",
    "    if not head.next: # only one node\n",
    "        return None\n",
    "    \n",
    "    curr = head\n",
    "    \n",
    "    while curr.next.next: # checks next's next\n",
    "        curr = curr.next\n",
    "\n",
    "    curr.next = None\n",
    "    return head\n",
    "\n",
    "Head = delete_last(Head)\n",
    "display(Head)"
   ]
  },
  {
   "cell_type": "code",
   "execution_count": null,
   "metadata": {},
   "outputs": [],
   "source": [
    "#insert after a value\n",
    "def insert_after(head,val,node):\n",
    "\n",
    "    new_node = SinglyNode(val)\n",
    "\n",
    "    curr = head\n",
    "\n",
    "    while curr:\n",
    "        if curr.val == node:\n",
    "            break\n",
    "        curr = curr.next\n",
    "\n",
    "    new_node.next = curr.next\n",
    "    curr.next = new_node\n",
    "\n",
    "    return head\n",
    "\n",
    "Head = insert_after(Head,int(input('Insert: ')),int(input('After: ')))\n",
    "display(Head)"
   ]
  },
  {
   "cell_type": "code",
   "execution_count": null,
   "metadata": {},
   "outputs": [],
   "source": [
    "#insert before a given value\n",
    "def insert_before(head,val,node):\n",
    "    new_node = SinglyNode(val)\n",
    "\n",
    "    curr = head\n",
    "\n",
    "    while curr:\n",
    "        if curr.val == node:\n",
    "            break\n",
    "        temp = curr\n",
    "        curr = curr.next\n",
    "\n",
    "    temp.next = new_node\n",
    "    new_node.next = curr\n",
    "\n",
    "    return head\n",
    "\n",
    "Head = insert_before(Head, int(input('Insert: ')),int(input('Before: ')))\n",
    "display(Head)"
   ]
  },
  {
   "cell_type": "code",
   "execution_count": null,
   "metadata": {},
   "outputs": [],
   "source": [
    "# delete a given value\n",
    "def delete_a_node(head,val):\n",
    "\n",
    "     curr = head\n",
    "\n",
    "     while curr:\n",
    "        if curr.val == val:\n",
    "            break\n",
    "        temp = curr\n",
    "        curr = curr.next\n",
    "\n",
    "     temp.next = curr.next\n",
    "     del curr\n",
    "\n",
    "     return head\n",
    "\n",
    "\n",
    "Head = delete_a_node(Head, int(input('Delete: ')))\n",
    "display(Head)     "
   ]
  },
  {
   "cell_type": "code",
   "execution_count": null,
   "metadata": {},
   "outputs": [],
   "source": [
    "# delete after a given value\n",
    "def delete_after(head, val):\n",
    "\n",
    "    curr = head\n",
    "\n",
    "    while curr:\n",
    "        if curr.val == val:\n",
    "            break\n",
    "        curr = curr.next\n",
    "        temp = curr.next\n",
    "\n",
    "    curr.next = temp.next\n",
    "    del temp\n",
    "\n",
    "    return head\n",
    "\n",
    "\n",
    "Head = delete_after(Head, int(input('Delete after: ')))\n",
    "display(Head)"
   ]
  },
  {
   "cell_type": "code",
   "execution_count": null,
   "metadata": {},
   "outputs": [],
   "source": [
    "# delete before a given value\n",
    "def delete_before(head, val):\n",
    "\n",
    "    curr = head\n",
    "\n",
    "    while curr:\n",
    "        if curr.next.next.val == val:\n",
    "            break\n",
    "        curr = curr.next\n",
    "        temp = curr.next\n",
    "        \n",
    "\n",
    "    curr.next = temp.next\n",
    "    del temp\n",
    "    \n",
    "\n",
    "    return head\n",
    "\n",
    "\n",
    "Head = delete_before(Head, int(input('Delete before: ')))\n",
    "display(Head)"
   ]
  },
  {
   "cell_type": "code",
   "execution_count": 35,
   "metadata": {},
   "outputs": [
    {
     "name": "stdout",
     "output_type": "stream",
     "text": [
      "1->2->3->4->5->6\n"
     ]
    }
   ],
   "source": [
    "#reverse a list\n",
    "def reverse(head):\n",
    "    if not head:\n",
    "        return head\n",
    "    \n",
    "    curr = temp = head\n",
    "    prev = None\n",
    "\n",
    "    while curr:\n",
    "        temp = curr.next\n",
    "        curr.next = prev\n",
    "        prev = curr\n",
    "        curr = temp\n",
    "\n",
    "    return prev\n",
    "\n",
    "Head = reverse(Head)\n",
    "display(Head)"
   ]
  },
  {
   "cell_type": "code",
   "execution_count": null,
   "metadata": {},
   "outputs": [
    {
     "name": "stdout",
     "output_type": "stream",
     "text": [
      "1->2->3->5->6\n"
     ]
    }
   ],
   "source": [
    "#delete middle node\n",
    "def deleteMiddle(head):\n",
    "    if not head:  # checks if list is empty\n",
    "        return head\n",
    "\n",
    "    if not head.next: # checks if list has only one node\n",
    "        return None\n",
    "\n",
    "    count = 0\n",
    "    curr = head\n",
    "\n",
    "    while curr:  # gets the number of nodes\n",
    "        count += 1\n",
    "        curr = curr.next \n",
    "        \n",
    "    middle_node = count // 2  # calculates the middle node index\n",
    "    count = 0\n",
    "    curr = head\n",
    "\n",
    "    while count != middle_node:  # points curr to the middle node\n",
    "        temp = curr\n",
    "        curr = curr.next \n",
    "        count +=1\n",
    "\n",
    "    temp.next = curr.next  # deletes the middle node\n",
    "\n",
    "    return head\n",
    "\n",
    "Head = deleteMiddle(Head)\n",
    "display(Head)"
   ]
  },
  {
   "cell_type": "code",
   "execution_count": null,
   "metadata": {},
   "outputs": [
    {
     "name": "stdout",
     "output_type": "stream",
     "text": [
      "1->2->3->5->6\n"
     ]
    }
   ],
   "source": [
    "# arranges the nodes as odd node before even ones\n",
    "def oddEvenList(head):\n",
    "    if not head or not head.next:\n",
    "        return head\n",
    "\n",
    "    odd = head\n",
    "    even = even_head = head.next\n",
    "    curr = even.next\n",
    "    is_odd = True\n",
    "\n",
    "    while curr:\n",
    "        if is_odd:\n",
    "            odd.next = curr\n",
    "            odd = curr\n",
    "        else:\n",
    "            even.next = curr\n",
    "            even = curr\n",
    "\n",
    "        is_odd = not is_odd\n",
    "        curr = curr.next\n",
    "\n",
    "    odd.next = even_head\n",
    "    even.next = None\n",
    "\n",
    "    return head\n",
    "\n",
    "Head = oddEvenList(Head)\n",
    "display(Head)"
   ]
  }
 ],
 "metadata": {
  "kernelspec": {
   "display_name": "Python 3",
   "language": "python",
   "name": "python3"
  },
  "language_info": {
   "codemirror_mode": {
    "name": "ipython",
    "version": 3
   },
   "file_extension": ".py",
   "mimetype": "text/x-python",
   "name": "python",
   "nbconvert_exporter": "python",
   "pygments_lexer": "ipython3",
   "version": "3.9.13"
  }
 },
 "nbformat": 4,
 "nbformat_minor": 2
}
