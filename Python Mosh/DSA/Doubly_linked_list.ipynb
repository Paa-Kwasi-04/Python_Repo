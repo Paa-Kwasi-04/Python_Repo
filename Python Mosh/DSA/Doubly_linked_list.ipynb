{
 "cells": [
  {
   "cell_type": "code",
   "execution_count": 1,
   "metadata": {},
   "outputs": [],
   "source": [
    "#Doubly Linked list\n",
    "\n",
    "class DoublyNode:\n",
    "    def __init__(self,val:int):\n",
    "        self.val = val\n",
    "        self.next = None\n",
    "        self.prev = None\n",
    "\n",
    "    def __str__(self):\n",
    "        return str(self.val)"
   ]
  },
  {
   "cell_type": "code",
   "execution_count": 2,
   "metadata": {},
   "outputs": [],
   "source": [
    "head = tail = DoublyNode(1)"
   ]
  },
  {
   "cell_type": "code",
   "execution_count": 3,
   "metadata": {},
   "outputs": [
    {
     "name": "stdout",
     "output_type": "stream",
     "text": [
      "1\n"
     ]
    }
   ],
   "source": [
    "#Display\n",
    "def display(head):\n",
    "    curr  = head\n",
    "    elements = []\n",
    "\n",
    "    while curr:\n",
    "        elements.append(str(curr.val))\n",
    "        curr = curr.next\n",
    "\n",
    "    print('<->'.join(elements))\n",
    "\n",
    "display(head)\n"
   ]
  },
  {
   "cell_type": "code",
   "execution_count": 19,
   "metadata": {},
   "outputs": [
    {
     "name": "stdout",
     "output_type": "stream",
     "text": [
      "True\n"
     ]
    }
   ],
   "source": [
    "# search a value\n",
    "def search(head, tail, val):\n",
    "\n",
    "    if not head:\n",
    "        return False\n",
    "\n",
    "    curr = head\n",
    "\n",
    "    while curr:\n",
    "        if curr.val == val:\n",
    "            return True\n",
    "        curr = curr.next\n",
    "\n",
    "    return False\n",
    "\n",
    "\n",
    "print(search(head, tail, int(input('Search: '))))"
   ]
  },
  {
   "cell_type": "code",
   "execution_count": 8,
   "metadata": {},
   "outputs": [
    {
     "name": "stdout",
     "output_type": "stream",
     "text": [
      "1<->2<->3<->4<->5<->6\n"
     ]
    }
   ],
   "source": [
    "# add new node\n",
    "def new_node(head,tail,val):\n",
    "    new_node = DoublyNode(val)\n",
    "\n",
    "    if not head:\n",
    "        return new_node,tail\n",
    "    \n",
    "    curr = head\n",
    "    \n",
    "    while curr:\n",
    "        if curr.next == None:\n",
    "            break\n",
    "        curr = curr.next\n",
    "\n",
    "    curr.next = new_node\n",
    "    new_node.prev = curr\n",
    "\n",
    "    tail = new_node\n",
    "\n",
    "    return head,tail\n",
    "\n",
    "head,tail = new_node(head,tail,int(input('Add node: ')))\n",
    "display(head)"
   ]
  },
  {
   "cell_type": "code",
   "execution_count": null,
   "metadata": {},
   "outputs": [
    {
     "name": "stdout",
     "output_type": "stream",
     "text": [
      "5<->1<->2<->3<->4<->5<->10\n"
     ]
    }
   ],
   "source": [
    "#insert at the beginning\n",
    "\n",
    "def insert_at_beginning(head,tail,val):\n",
    "    new_node = DoublyNode(val)\n",
    "    new_node.next = head\n",
    "    head.prev = new_node\n",
    "\n",
    "    return new_node, tail\n",
    "\n",
    "head,tail = insert_at_beginning(head,tail,int(input('Insert: ')))\n",
    "\n",
    "display(head)"
   ]
  },
  {
   "cell_type": "code",
   "execution_count": 21,
   "metadata": {},
   "outputs": [
    {
     "name": "stdout",
     "output_type": "stream",
     "text": [
      "5<->1<->2<->3<->4<->5<->10<->6<->7\n"
     ]
    }
   ],
   "source": [
    "#insert at the end\n",
    "\n",
    "def insert_at_end(head, tail, val):\n",
    "    new_node = DoublyNode(val)\n",
    "    \n",
    "    if not head:\n",
    "        return new_node,tail\n",
    "    \n",
    "\n",
    "    tail.next = new_node\n",
    "    new_node.prev = tail\n",
    "    tail = new_node\n",
    "    \n",
    "\n",
    "    return head,tail\n",
    "\n",
    "\n",
    "head, tail = insert_at_end(head, tail,int(input('Insert: ')))\n",
    "\n",
    "display(head)"
   ]
  },
  {
   "cell_type": "code",
   "execution_count": 23,
   "metadata": {},
   "outputs": [
    {
     "name": "stdout",
     "output_type": "stream",
     "text": [
      "2<->3<->4<->5<->10<->6<->7\n"
     ]
    }
   ],
   "source": [
    "#Delete at beginning\n",
    "def delete_beginning(head,tail):\n",
    "   if not head:\n",
    "        return None,None\n",
    "   \n",
    "   curr = head.next\n",
    "   curr.prev = None\n",
    "   del head\n",
    "\n",
    "   return curr,tail\n",
    "\n",
    "head,tail = delete_beginning(head,tail)\n",
    "display(head)\n",
    "    \n"
   ]
  },
  {
   "cell_type": "code",
   "execution_count": 25,
   "metadata": {},
   "outputs": [
    {
     "name": "stdout",
     "output_type": "stream",
     "text": [
      "2<->3<->4<->5<->10\n"
     ]
    }
   ],
   "source": [
    "# Delete at end\n",
    "def delete_end(head,tail):\n",
    "    if not head:\n",
    "        return None, None\n",
    "    \n",
    "    curr = tail.prev\n",
    "    curr.next = None\n",
    "    tail = curr\n",
    "\n",
    "    return head,tail\n",
    "\n",
    "\n",
    "head, tail = delete_end(head, tail)\n",
    "display(head)"
   ]
  },
  {
   "cell_type": "code",
   "execution_count": 28,
   "metadata": {},
   "outputs": [
    {
     "name": "stdout",
     "output_type": "stream",
     "text": [
      "2<->3<->4<->7<->6<->5<->10\n"
     ]
    }
   ],
   "source": [
    "#Insert a node before a value\n",
    "def insert_before(head,tail,val,node):\n",
    "    new_node = DoublyNode(val)\n",
    "\n",
    "    if not head:\n",
    "        return None, None\n",
    "    \n",
    "    curr = head\n",
    "\n",
    "    while curr:\n",
    "        if curr.val == node:\n",
    "            break\n",
    "        temp = curr\n",
    "        curr = curr.next\n",
    "\n",
    "    temp.next,new_node.prev = new_node,temp\n",
    "    new_node.next,curr.prev = curr,new_node\n",
    "\n",
    "    return head,tail\n",
    "\n",
    "\n",
    "head, tail = insert_before(head, tail, int(input('Insert: ')), int(input('Before: ')))\n",
    "\n",
    "display(head)"
   ]
  },
  {
   "cell_type": "code",
   "execution_count": 29,
   "metadata": {},
   "outputs": [
    {
     "name": "stdout",
     "output_type": "stream",
     "text": [
      "2<->3<->4<->7<->6<->11<->5<->10\n"
     ]
    }
   ],
   "source": [
    "# Insert a node after a value\n",
    "def insert_after(head, tail, val, node):\n",
    "    new_node = DoublyNode(val)\n",
    "\n",
    "    if not head:\n",
    "        return None, None\n",
    "\n",
    "    curr = head\n",
    "\n",
    "    while curr:\n",
    "        if curr.val == node:\n",
    "            break\n",
    "        curr = curr.next\n",
    "        temp = curr.next\n",
    "\n",
    "    curr.next,new_node.prev = new_node,curr\n",
    "    new_node.next,temp.prev = temp,new_node \n",
    "\n",
    "    return head, tail\n",
    "\n",
    "\n",
    "head, tail = insert_after(head, tail, int(input('Insert: ')), int(input('After: ')))\n",
    "display(head)\n"
   ]
  },
  {
   "cell_type": "code",
   "execution_count": 33,
   "metadata": {},
   "outputs": [
    {
     "name": "stdout",
     "output_type": "stream",
     "text": [
      "2<->3<->4<->7<->6<->10\n"
     ]
    }
   ],
   "source": [
    "# Delete a node before a value\n",
    "def delete_before(head, tail, val):\n",
    "\n",
    "    if not head:\n",
    "        return None, None\n",
    "\n",
    "    curr = head\n",
    "\n",
    "    while curr:\n",
    "        if curr.val == val:\n",
    "            break\n",
    "\n",
    "        temp = curr.prev\n",
    "        curr = curr.next\n",
    "\n",
    "    \n",
    "    \n",
    "    temp.next,curr.prev = curr,temp\n",
    "\n",
    "    return head, tail\n",
    "\n",
    "\n",
    "head, tail = delete_before(head, tail, int(input('Delete before: ')))\n",
    "\n",
    "display(head)"
   ]
  },
  {
   "cell_type": "code",
   "execution_count": null,
   "metadata": {},
   "outputs": [],
   "source": [
    "# Delete a node after a value\n",
    "def delete_after(head, tail, val):\n",
    "\n",
    "    if not head:\n",
    "        return None, None\n",
    "\n",
    "    curr = head\n",
    "\n",
    "    while curr:\n",
    "        if curr.val == val:\n",
    "            break\n",
    "\n",
    "        curr = curr.next\n",
    "        temp = curr.next\n",
    "\n",
    "    temp.next.prev,curr.next = curr,temp.next\n",
    "\n",
    "    return head, tail\n",
    "\n",
    "head, tail = delete_after(head, tail, int(input('Delete after: ')))\n",
    "\n",
    "display(head)"
   ]
  },
  {
   "cell_type": "markdown",
   "metadata": {},
   "source": []
  },
  {
   "cell_type": "code",
   "execution_count": 14,
   "metadata": {},
   "outputs": [
    {
     "name": "stdout",
     "output_type": "stream",
     "text": [
      "1<->2<->3<->4<->5<->6\n"
     ]
    }
   ],
   "source": [
    "#reverse the list\n",
    "def reverse(head,tail):\n",
    "    if not head:\n",
    "        return head, tail\n",
    "    \n",
    "    curr = head\n",
    "\n",
    "    ptr = None\n",
    "\n",
    "    while curr:\n",
    "        temp = curr.next\n",
    "        curr.next = ptr\n",
    "        curr.prev = temp\n",
    "        ptr = curr\n",
    "        curr = temp\n",
    "        \n",
    "\n",
    "    return ptr,head\n",
    "\n",
    "head,tail = reverse(head,tail)\n",
    "display(head)\n"
   ]
  },
  {
   "cell_type": "code",
   "execution_count": 15,
   "metadata": {},
   "outputs": [
    {
     "name": "stdout",
     "output_type": "stream",
     "text": [
      "1<->2<->3<->5<->6\n"
     ]
    }
   ],
   "source": [
    "# delete middle node\n",
    "def deleteMiddle(head):\n",
    "    if not head:  # checks if list is empty\n",
    "        return head\n",
    "\n",
    "    if not head.next:  # checks if list has only one node\n",
    "        return None\n",
    "\n",
    "    count = 0\n",
    "    curr = head\n",
    "\n",
    "    while curr:  # gets the number of nodes\n",
    "        count += 1\n",
    "        curr = curr.next\n",
    "\n",
    "    middle_node = count // 2  # calculates the middle node index\n",
    "    count = 0\n",
    "    curr = head\n",
    "\n",
    "    while count != middle_node:  # points curr to the middle node\n",
    "        temp = curr\n",
    "        curr = curr.next\n",
    "        count += 1\n",
    "\n",
    "    temp.next ,curr.next.prev= curr.next,temp  # deletes the middle node\n",
    "\n",
    "    return head\n",
    "\n",
    "\n",
    "head = deleteMiddle(head)\n",
    "display(head)"
   ]
  },
  {
   "cell_type": "code",
   "execution_count": null,
   "metadata": {},
   "outputs": [],
   "source": [
    "# arranges the nodes as odd node before even ones\n",
    "\n",
    "def oddEvenList(head,tail):\n",
    "     \n",
    "    if not head:\n",
    "        return None,None\n",
    "     \n",
    "    if not head.next:\n",
    "        return head,tail\n",
    "     \n",
    "    odd = head\n",
    "    even = even_head = head.next\n",
    "    curr = even.next\n",
    "\n",
    "    is_oddEven = True\n",
    "\n",
    "    while curr:\n",
    "        if is_oddEven:\n",
    "            odd.next = curr\n",
    "            curr.prev = odd\n",
    "            odd = curr\n",
    "\n",
    "        else:\n",
    "            even.next = curr\n",
    "            curr.prev = even\n",
    "            even = curr\n",
    "\n",
    "        curr = curr.next\n",
    "        is_oddEven = not is_oddEven\n",
    "\n",
    "    odd.next,even_head.prev = even_head,odd\n",
    "    even.next = None\n",
    "\n",
    "    return head , even\n",
    "\n",
    "head, tail = oddEvenList(head,tail)\n",
    "display(head)"
   ]
  }
 ],
 "metadata": {
  "kernelspec": {
   "display_name": "Python 3",
   "language": "python",
   "name": "python3"
  },
  "language_info": {
   "codemirror_mode": {
    "name": "ipython",
    "version": 3
   },
   "file_extension": ".py",
   "mimetype": "text/x-python",
   "name": "python",
   "nbconvert_exporter": "python",
   "pygments_lexer": "ipython3",
   "version": "3.9.13"
  }
 },
 "nbformat": 4,
 "nbformat_minor": 2
}
