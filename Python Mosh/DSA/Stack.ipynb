{
 "cells": [
  {
   "cell_type": "code",
   "execution_count": 2,
   "id": "7a0919a1",
   "metadata": {},
   "outputs": [],
   "source": [
    "class Node:\n",
    "    def __init__(self, val):\n",
    "        self.value = val\n",
    "        self.next = next"
   ]
  },
  {
   "cell_type": "code",
   "execution_count": null,
   "id": "8294e660",
   "metadata": {},
   "outputs": [],
   "source": [
    "class Stack_ll:\n",
    "    def __init__(self):\n",
    "        self.head = None\n",
    "        self.size = 0\n",
    "\n",
    "    def isEmpty(self):\n",
    "        return self.size == 0\n",
    "\n",
    "    def push(self, val):\n",
    "        newnode = Node(val)\n",
    "        if self.head:\n",
    "            newnode.next = self.head\n",
    "        self.head = newnode\n",
    "        self.size += 1\n",
    "\n",
    "    def pop(self):\n",
    "        if self.isEmpty():\n",
    "            return 'Stack is empty'\n",
    "        popped_node = self.head\n",
    "        self.head = self.head.next\n",
    "        self.size -= 1\n",
    "        return popped_node.value\n",
    "\n",
    "    def peek(self):\n",
    "        if self.isEmpty():\n",
    "            return 'Stack is Empty'\n",
    "        return self.head.value\n",
    "\n",
    "    def stack_size(self):\n",
    "        return self.size"
   ]
  },
  {
   "cell_type": "code",
   "execution_count": null,
   "id": "d10197bd",
   "metadata": {},
   "outputs": [
    {
     "name": "stdout",
     "output_type": "stream",
     "text": [
      "True\n"
     ]
    }
   ],
   "source": [
    "mystack = Stack_ll()\n",
    "\n",
    "print(mystack.isEmpty())\n",
    "\n",
    "for _ in range(5):\n",
    "    mystack.push(int(input('Push a value in stack')))\n",
    "\n"
   ]
  },
  {
   "cell_type": "code",
   "execution_count": null,
   "id": "d57c96cf",
   "metadata": {},
   "outputs": [],
   "source": [
    "#Implementing a Stack using dynamic arrays\n",
    "class Stack_array():\n",
    "    def __init__(self):\n",
    "        self.stack = []\n",
    "\n",
    "    def isEmpty(self):\n",
    "        return len(self.stack) == 0\n",
    "\n",
    "    def push(self,val):\n",
    "        self.stack.append(val)\n",
    "\n",
    "    def pop(self):\n",
    "        if self.isEmpty():\n",
    "            return 'Stack is Empty'\n",
    "        return self.stack.pop()\n",
    "    def peek(self):\n",
    "        if self.isEmpty():\n",
    "            return 'Stack is Empty'\n",
    "        return self.stack[-1]\n",
    "    \n",
    "    def size(self):\n",
    "        return len(self.stack)"
   ]
  }
 ],
 "metadata": {
  "kernelspec": {
   "display_name": "Python 3",
   "language": "python",
   "name": "python3"
  },
  "language_info": {
   "codemirror_mode": {
    "name": "ipython",
    "version": 3
   },
   "file_extension": ".py",
   "mimetype": "text/x-python",
   "name": "python",
   "nbconvert_exporter": "python",
   "pygments_lexer": "ipython3",
   "version": "3.9.13"
  }
 },
 "nbformat": 4,
 "nbformat_minor": 5
}
